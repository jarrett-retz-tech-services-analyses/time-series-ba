{
 "cells": [
  {
   "cell_type": "markdown",
   "metadata": {},
   "source": [
    "<h1 align=\"center\">Auto ARIMA Time-Series Analysis: U.S COVID-19 Mortalities, and US Equities</h1>"
   ]
  },
  {
   "cell_type": "markdown",
   "metadata": {},
   "source": [
    "## Abstraction"
   ]
  },
  {
   "cell_type": "markdown",
   "metadata": {},
   "source": [
    "In a prior analysis, using an ordinary least squares regression, I created a model that explained 55.7% of the variation in Boeing (BA) common stock pricing using a 7-day rolling average for U.S COVID-19 mortalities. Additionally, I found this statistic had a correlation with the daily price of **-0.749**. \n",
    "\n",
    "Recently, I learned about time-series analysis and I wanted to revist this data with new tools. \n",
    "\n",
    "I split the data into a train and test set, then I used an ARIMA (Auto Regressive Integrated Moving Average) model to and predict prices for the test set.\n",
    "\n",
    "I created multiple models, one using the SPY (SPDR S&P ETF Trust) security as a benchmark to see if the 7-day rolling mortality statistic outperformed the SPY as a predictor or helped to improve the predictions.\n",
    "\n",
    "I created the three models, used the models to predict the price for 25 days, took the difference in the predictions from the test data set, sqaured the differences, and added them for each model. The results were:\n",
    "\n",
    "- Using just the **SPY index**, the sum of the difference between predicted and actual prices squared was **39.64275095954604**\n",
    "- Using just the **COVID data**, the sum of the difference between predicted and actual prices squared was **80.52527950668268**\n",
    "- Using **both the SPY and the COVID data**, the sum of the difference between predicted and actual prices squared was **16.425098154198338**"
   ]
  },
  {
   "cell_type": "markdown",
   "metadata": {},
   "source": [
    "## Introduction"
   ]
  },
  {
   "cell_type": "markdown",
   "metadata": {},
   "source": [
    "I wouldn't covet this as my most professional analysis. In a previous report, I found a correlation and created a model using an Ordinary Least Squares Regression that accounted for 55.7% of the variation of in BA price.\n",
    "\n",
    "Knowing that there was a correlation, and the mortality statistic explained some of the variation, I pursued to find that same characteristic in a time-series analysis. Therefore, this was less of a purely scientific inquiry, and more of a way to practice building a model using a Python library with auto ARIMA capabilities.\n",
    "\n",
    "I started out, looking for time-series components (auto regressive or moving average) in the daily BA price, but found little patterns in the time lags. It wasn't until I returned to the auto ARIMA function, including exogenous variables that the coefficients became significant.\n",
    "\n",
    "After, finding significance in one lag and the two exogenous variables, I began building the three models."
   ]
  },
  {
   "cell_type": "markdown",
   "metadata": {},
   "source": [
    "## Methods"
   ]
  },
  {
   "cell_type": "markdown",
   "metadata": {},
   "source": [
    "### Data Collection"
   ]
  },
  {
   "cell_type": "markdown",
   "metadata": {},
   "source": [
    "**Historical stock data** was obtained from the Python library `yfinance` that offers:\n",
    "\"\\[...\\] a reliable, threaded, and Pythonic way to download historical market data from Yahoo! finance.\"\n",
    "\n",
    "The historical stock data retrieved was for The Boeing Company (BA) and the S&P 500 ETF Trust (SPY) for the dates March 31, 2020-October 1, 2020. The adjusted closing price was extracted and used to represent the price for each equity. \n",
    "\n",
    "**COVID-19 data** was obtained from the Covid Tracking Project (https://covidtracking.com/data). How does CTP source their data?\n",
    "\n",
    "> Almost all of the data we compile is taken directly from the websites of local or state/territory public health authorities. Where data is missing from these websites, we supplement available numbers with information from official press conferences with governors or public health authorities.\n",
    "\n",
    "The full dataset was downloaded in CSV format, and exists in the repository in full. Only one column was selcted, **deathIncrease**. This data was reported by date and by state."
   ]
  },
  {
   "cell_type": "markdown",
   "metadata": {},
   "source": [
    "### Data Transformation and Preparation"
   ]
  },
  {
   "cell_type": "markdown",
   "metadata": {},
   "source": [
    "The **deathIncrease** column was a daily aggregate from all the reporting states. To create a similar mortality statistic to the previous analysis, the **deathIncrease** column was replaced with a 7-day rolling avg. for mortality. This shrunk the total data set by 7 days starting the dataset on 4-8-2020.\n",
    "\n",
    "*It may have been appropriate to convert the prices for the securities to a 7-day average. However, this step was not taken*\n",
    "\n",
    "The total data set was split, allocating 80% (97 obs.) of the values to training set, and 20% (25 obs.) to the test set."
   ]
  },
  {
   "cell_type": "markdown",
   "metadata": {},
   "source": [
    "### Modelling"
   ]
  },
  {
   "cell_type": "markdown",
   "metadata": {},
   "source": [
    "Each of the three models was created using an automated ARIMA function. Additionally, each model received the BA training set, and one or more exogenous variables. The potential orders for the model were capped as follows:\n",
    "\n",
    "    max_p=7, # AR components\n",
    "    max_q=7, # MA components\n",
    "    max_d=2, # integrations allowed\n",
    "    max_P=5, # seasonal\n",
    "    max_Q=5, # seasonal\n",
    "    max_D=2,  # seasonal\n",
    "    max_iter=50, # some models fails to converge after 50 iterations so this argument can be increased\n",
    "\n",
    "Significance was defined at a 5% level. The information criterion to judge a models fit was determined by the AIC (Akaike information criterion)."
   ]
  },
  {
   "cell_type": "markdown",
   "metadata": {},
   "source": [
    "## Results"
   ]
  },
  {
   "cell_type": "markdown",
   "metadata": {},
   "source": [
    "### SPY only exog variable results"
   ]
  },
  {
   "cell_type": "markdown",
   "metadata": {},
   "source": [
    "#### SARIMAX Results                                \n",
    "\n",
    "Log Likelihood                **-322.288**\n",
    "\n",
    "AIC                            **654.571**\n",
    "\n",
    "p-value for SPY exog variable: **~0.00**\n",
    "\n",
    "p-value for one AR lag **~0.00**"
   ]
  },
  {
   "cell_type": "markdown",
   "metadata": {},
   "source": [
    "After creating the model, I used the model to predict the next 25 days (specified by the test set from 8-26-2020 to 9-30-2020) passing the equivalent exogenous variables to the prediction method that were used to create the model.\n",
    "\n",
    "Then, I graphed the predicted values alongside the actual price values from the test set.\n",
    "\n",
    "Finally, I calculated the differences, squared them, and added up the total."
   ]
  },
  {
   "cell_type": "markdown",
   "metadata": {},
   "source": [
    "<img src=\"./pred_w_spy.png\" alt=\"\" />"
   ]
  },
  {
   "cell_type": "markdown",
   "metadata": {},
   "source": [
    "The sum of the squared differences totalled **39.64275095954604**"
   ]
  },
  {
   "cell_type": "markdown",
   "metadata": {},
   "source": [
    "### COVID only exog variable results"
   ]
  },
  {
   "cell_type": "markdown",
   "metadata": {},
   "source": [
    "#### SARIMAX Results                                \n",
    "\n",
    "Log Likelihood                **-338.895**\n",
    "\n",
    "AIC                            **687.789**\n",
    "\n",
    "p-value for COVID exog variable: **~0.007**\n",
    "\n",
    "p-value for one AR lag **~0.000**"
   ]
  },
  {
   "cell_type": "markdown",
   "metadata": {},
   "source": [
    "After creating the model, I used the model to predict the next 25 days (specified by the test set from 8-26-2020 to 9-30-2020) passing the equivalent exogenous variables to the prediction method that were used to create the model.\n",
    "\n",
    "Then, I graphed the predicted values alongside the actual price values from the test set.\n",
    "\n",
    "Finally, I calculated the differences, squared them, and added up the total."
   ]
  },
  {
   "cell_type": "markdown",
   "metadata": {},
   "source": [
    "<img src=\"./pred_x_covid.png\" alt=\"\" />"
   ]
  },
  {
   "cell_type": "markdown",
   "metadata": {},
   "source": [
    "The sum of the squared differences totalled **80.52527950668268**"
   ]
  },
  {
   "cell_type": "markdown",
   "metadata": {},
   "source": [
    "### COVID + SPY exog variable results"
   ]
  },
  {
   "cell_type": "markdown",
   "metadata": {},
   "source": [
    "#### SARIMAX Results                                \n",
    "\n",
    "Log Likelihood                **-321.033**\n",
    "\n",
    "AIC                            **654.065**\n",
    "\n",
    "p-value for SPY exog variable: **~0.000**\n",
    "p-value for COVID exog variable: **~0.000**\n",
    "\n",
    "p-value for one AR lag **~0.000**"
   ]
  },
  {
   "cell_type": "markdown",
   "metadata": {},
   "source": [
    "After creating the model, I used the model to predict the next 25 days (specified by the test set from 8-26-2020 to 9-30-2020) passing the equivalent exogenous variables to the prediction method that were used to create the model.\n",
    "\n",
    "Then, I graphed the predicted values alongside the actual price values from the test set.\n",
    "\n",
    "Finally, I calculated the differences, squared them, and added up the total."
   ]
  },
  {
   "cell_type": "markdown",
   "metadata": {},
   "source": [
    "<img src=\"./pred_w_both.png\" alt=\"\" />"
   ]
  },
  {
   "cell_type": "markdown",
   "metadata": {},
   "source": [
    "The sum of the squared differences totalled **16.425098154198338**"
   ]
  },
  {
   "cell_type": "markdown",
   "metadata": {},
   "source": [
    "## Conclusion"
   ]
  },
  {
   "cell_type": "markdown",
   "metadata": {},
   "source": [
    "After creating the models and analyzing the results, it's reasonable to conclude that for this time period, combining the two statistics (SPY and COVID mortality) proved to produce the best predictions.\n",
    "\n",
    "However, the SPY index on it's own was, overall, a much better predictor than the 7-day mortality average.\n",
    "\n",
    "Furthermore, it's often easy to improve predictions by simply including more data. Therefore, given the limited scope of the data used more analysis could certainly be done in testing the robustness of this predictor."
   ]
  },
  {
   "cell_type": "code",
   "execution_count": null,
   "metadata": {},
   "outputs": [],
   "source": []
  }
 ],
 "metadata": {
  "kernelspec": {
   "display_name": "Python 3",
   "language": "python",
   "name": "python3"
  },
  "language_info": {
   "codemirror_mode": {
    "name": "ipython",
    "version": 3
   },
   "file_extension": ".py",
   "mimetype": "text/x-python",
   "name": "python",
   "nbconvert_exporter": "python",
   "pygments_lexer": "ipython3",
   "version": "3.8.5"
  }
 },
 "nbformat": 4,
 "nbformat_minor": 4
}
